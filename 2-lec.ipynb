{
 "cells": [
  {
   "cell_type": "code",
   "execution_count": 26,
   "metadata": {},
   "outputs": [
    {
     "name": "stdout",
     "output_type": "stream",
     "text": [
      "Wrong classification, new weights for predicted class 0 and expected 2  are now [-4  0  0 -2] [4 0 0 2]\n",
      "Wrong classification, new weights for predicted class 2 and expected 1  are now [ 4 -1  0  1] [0 1 0 1]\n",
      "Wrong classification, new weights for predicted class 2 and expected 0  are now [ 3 -1 -7  1] [-3  0  7 -2]\n",
      "Correctly classified [0 2 0 0], class 1\n",
      "final weights after training [array([-3,  0,  7, -2]), array([0, 1, 0, 1]), array([ 3, -1, -7,  1])]\n",
      "Classified 1 / 4 examples correctly while training\n"
     ]
    }
   ],
   "source": [
    "import numpy as np\n",
    "\n",
    "w_a = np.array([0,0,0,0])\n",
    "w_b = np.array([0,0,0,0])\n",
    "w_c = np.array([0,0,0,0])\n",
    "\n",
    "weights = [w_a, w_b, w_c]\n",
    "\n",
    "def train(vec, exp_class):\n",
    "    res = np.argmax([np.dot(vec, cls) for cls in weights])\n",
    "    \n",
    "    if res != exp_class:\n",
    "        weights[res] -= vec\n",
    "        weights[exp_class] += vec\n",
    "        print(f'Wrong classification, new weights for predicted class {res} and expected {exp_class}  are now', weights[res], weights[exp_class])\n",
    "    else:\n",
    "        print(f'Correctly classified {vec}, class {exp_class}' if res == exp_class else f'Expected {exp_class}, got the class {res}')\n",
    "\n",
    "    return res == exp_class\n",
    "    \n",
    "def trainer(points, classes):\n",
    "    total, correct = 0, 0\n",
    "    for point, cls in zip(points, classes):\n",
    "        total += 1\n",
    "        if train(point, cls):\n",
    "            correct += 1\n",
    "    \n",
    "    print('final weights after training', weights)\n",
    "    print(f'Classified {correct} / {total} examples correctly while training')\n",
    "    \n",
    "    \n",
    "trainer([np.array([4,0,0,2]), np.array([0,1,0,1]), np.array([1,0,7,0]), np.array([0,2,0,0])], [2,1,0,1])"
   ]
  },
  {
   "cell_type": "code",
   "execution_count": null,
   "metadata": {},
   "outputs": [],
   "source": []
  }
 ],
 "metadata": {
  "kernelspec": {
   "display_name": "Python 3",
   "language": "python",
   "name": "python3"
  },
  "language_info": {
   "codemirror_mode": {
    "name": "ipython",
    "version": 3
   },
   "file_extension": ".py",
   "mimetype": "text/x-python",
   "name": "python",
   "nbconvert_exporter": "python",
   "pygments_lexer": "ipython3",
   "version": "3.7.3"
  }
 },
 "nbformat": 4,
 "nbformat_minor": 2
}
