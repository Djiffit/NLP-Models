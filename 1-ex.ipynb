{
 "cells": [
  {
   "cell_type": "code",
   "execution_count": 58,
   "metadata": {},
   "outputs": [],
   "source": [
    "import numpy as np\n",
    "from functools import reduce\n",
    "from copy import deepcopy"
   ]
  },
  {
   "cell_type": "code",
   "execution_count": 2,
   "metadata": {},
   "outputs": [],
   "source": [
    "u = [1.1, 0.0, 2.0,-3.0]\n",
    "v = [0.0, 3.1,-0.5, 4.0]"
   ]
  },
  {
   "cell_type": "code",
   "execution_count": 23,
   "metadata": {},
   "outputs": [
    {
     "name": "stdout",
     "output_type": "stream",
     "text": [
      "exercise 1\n",
      "a) loop result -13.0\n",
      "b) list comprehension -13.0\n",
      "c) dot res -13.0\n"
     ]
    }
   ],
   "source": [
    "print('exercise 1')\n",
    "\n",
    "total_loop = 0\n",
    "for j, i in zip(u,v):\n",
    "    total_loop += j * i\n",
    "    \n",
    "assert(total_loop == 2.0 * (-.5) + (-3 * 4))\n",
    "\n",
    "print('a) loop result', total_loop)\n",
    "total_comp = sum([x * y for x, y in zip(u, v)])\n",
    "\n",
    "assert(total_comp == total_loop)\n",
    "\n",
    "print('b) list comprehension', total_comp)\n",
    "\n",
    "u_np = np.array(u)\n",
    "v_np = np.array(v)\n",
    "\n",
    "dot_res = np.dot(u_np, v_np)\n",
    "\n",
    "assert(dot_res == total_loop)\n",
    "\n",
    "print('c) dot res', dot_res)"
   ]
  },
  {
   "cell_type": "code",
   "execution_count": 48,
   "metadata": {},
   "outputs": [
    {
     "name": "stdout",
     "output_type": "stream",
     "text": [
      "exercise 2\n",
      "a) total words 442\n",
      "b) max count length 6\n",
      "c) 10 length words represent about 2 % of all words\n",
      "d) length >= 5 words represent 64 % of all words\n",
      "e) character count is  2414\n",
      "f) average length is  5.5\n"
     ]
    }
   ],
   "source": [
    "print('exercise 2')\n",
    "l = [0,11,42,53,52,60,77,55,45,33,10,2,1,0,1]\n",
    "\n",
    "total_words = sum(l)\n",
    "print('a) total words', total_words)\n",
    "\n",
    "max_count_index = np.argmax(l)\n",
    "print('b) max count length', max_count_index)\n",
    "\n",
    "length_10_paritition = round((l[10] / total_words) * 100)\n",
    "print(f'c) 10 length words represent about {length_10_paritition} % of all words')\n",
    "\n",
    "length_greater_5 = round((sum(l[5:]) / total_words) * 100)\n",
    "print(f'd) length >= 5 words represent {length_greater_5} % of all words')\n",
    "\n",
    "total_chars = np.dot(np.array(np.arange(len(l))), l)\n",
    "print('e) character count is ', total_chars)\n",
    "\n",
    "avg_len = round((total_chars / total_words) * 10)  / 10\n",
    "print('f) average length is ', avg_len)"
   ]
  },
  {
   "cell_type": "code",
   "execution_count": 101,
   "metadata": {},
   "outputs": [
    {
     "name": "stdout",
     "output_type": "stream",
     "text": [
      "exercise 3\n",
      "[[0.2        0.4        0.         0.4       ]\n",
      " [0.25       0.25       0.25       0.25      ]\n",
      " [0.33333333 0.         0.33333333 0.33333333]\n",
      " [0.         0.4        0.         0.6       ]] \n",
      "\n",
      "[[0.2, 0.4, 0.0, 0.4], [0.25, 0.25, 0.25, 0.25], [0.3333333333333333, 0.0, 0.3333333333333333, 0.3333333333333333], [0.0, 0.4, 0.0, 0.6]] \n",
      "\n",
      "[[0.2        0.4        0.         0.4       ]\n",
      " [0.25       0.25       0.25       0.25      ]\n",
      " [0.33333333 0.         0.33333333 0.33333333]\n",
      " [0.         0.4        0.         0.6       ]]\n"
     ]
    }
   ],
   "source": [
    "print('exercise 3')\n",
    "\n",
    "C = np.array([[1.0,2.0,0.0,2.0], [1.0,1.0,1.0,1.0], [1.0,0.0,1.0,1.0], [0.0,2.0,0.0,3.0]])\n",
    "\n",
    "D_loop = deepcopy(C)\n",
    "\n",
    "for i in range(len(D_loop)):\n",
    "    row_sum = sum(D_loop[i])\n",
    "    for j in range(len(D_loop[0])):\n",
    "        D_loop[i][j] /= row_sum\n",
    "\n",
    "assert(np.sum(D_loop) == 4)\n",
    "\n",
    "D_comp = [ list(row / sum(row)) for row in C ]\n",
    "assert(np.sum(D_comp) == 4)\n",
    "\n",
    "np.testing.assert_allclose(D_comp, D_loop)\n",
    "\n",
    "D_numpy = (C.T / (np.sum(C, axis= 1))).T\n",
    "\n",
    "np.testing.assert_allclose(D_numpy, D_comp)\n",
    "\n",
    "print(D_loop, '\\n')\n",
    "\n",
    "print(D_comp, '\\n')\n",
    "\n",
    "print(D_numpy)"
   ]
  },
  {
   "cell_type": "code",
   "execution_count": null,
   "metadata": {},
   "outputs": [],
   "source": []
  },
  {
   "cell_type": "code",
   "execution_count": null,
   "metadata": {},
   "outputs": [],
   "source": []
  }
 ],
 "metadata": {
  "kernelspec": {
   "display_name": "Python 3",
   "language": "python",
   "name": "python3"
  },
  "language_info": {
   "codemirror_mode": {
    "name": "ipython",
    "version": 3
   },
   "file_extension": ".py",
   "mimetype": "text/x-python",
   "name": "python",
   "nbconvert_exporter": "python",
   "pygments_lexer": "ipython3",
   "version": "3.7.3"
  }
 },
 "nbformat": 4,
 "nbformat_minor": 2
}
