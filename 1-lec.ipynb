{
 "cells": [
  {
   "cell_type": "code",
   "execution_count": 25,
   "metadata": {},
   "outputs": [
    {
     "data": {
      "text/plain": [
       "59"
      ]
     },
     "execution_count": 25,
     "metadata": {},
     "output_type": "execute_result"
    }
   ],
   "source": [
    "import numpy as np\n",
    "\n",
    "order = ['mom', 'cos', 'per']\n",
    "\n",
    "mat = np.array([\n",
    "    [20, 2, 4],\n",
    "    [0, 16, 2],\n",
    "    [0, 1, 14],\n",
    "])\n",
    "\n",
    "total = np.sum(mat)\n",
    "total"
   ]
  },
  {
   "cell_type": "code",
   "execution_count": 2,
   "metadata": {},
   "outputs": [
    {
     "data": {
      "text/plain": [
       "0.847457627118644"
      ]
     },
     "execution_count": 2,
     "metadata": {},
     "output_type": "execute_result"
    }
   ],
   "source": [
    "acc = sum(mat[[0, 1, 2], [0, 1, 2]]) / total\n",
    "acc"
   ]
  },
  {
   "cell_type": "code",
   "execution_count": 3,
   "metadata": {},
   "outputs": [
    {
     "data": {
      "text/plain": [
       "0.7"
      ]
     },
     "execution_count": 3,
     "metadata": {},
     "output_type": "execute_result"
    }
   ],
   "source": [
    "rec_per = mat[2,2] / sum(mat[:, 2])\n",
    "rec_per"
   ]
  },
  {
   "cell_type": "code",
   "execution_count": 4,
   "metadata": {},
   "outputs": [
    {
     "data": {
      "text/plain": [
       "0.8888888888888888"
      ]
     },
     "execution_count": 4,
     "metadata": {},
     "output_type": "execute_result"
    }
   ],
   "source": [
    "prec_cos = mat[1,1] / sum(mat[1, :])\n",
    "prec_cos"
   ]
  },
  {
   "cell_type": "code",
   "execution_count": 5,
   "metadata": {},
   "outputs": [
    {
     "data": {
      "text/plain": [
       "1.0"
      ]
     },
     "execution_count": 5,
     "metadata": {},
     "output_type": "execute_result"
    }
   ],
   "source": [
    "rec_mom = mat[0, 0] / sum(mat[:, 0])\n",
    "rec_mom"
   ]
  },
  {
   "cell_type": "code",
   "execution_count": 6,
   "metadata": {},
   "outputs": [
    {
     "data": {
      "text/plain": [
       "0.8421052631578947"
      ]
     },
     "execution_count": 6,
     "metadata": {},
     "output_type": "execute_result"
    }
   ],
   "source": [
    "rec_cos = mat[1,1] / sum(mat[:, 1])\n",
    "rec_cos"
   ]
  },
  {
   "cell_type": "code",
   "execution_count": 7,
   "metadata": {},
   "outputs": [
    {
     "data": {
      "text/plain": [
       "0.8473684210526317"
      ]
     },
     "execution_count": 7,
     "metadata": {},
     "output_type": "execute_result"
    }
   ],
   "source": [
    "macro_rec = (rec_cos + rec_per + rec_mom) / 3\n",
    "macro_rec"
   ]
  },
  {
   "cell_type": "code",
   "execution_count": 42,
   "metadata": {},
   "outputs": [],
   "source": [
    "def calc_micro(mat):\n",
    "    total_mat = np.array([\n",
    "        [0, 0],\n",
    "        [0, 0]\n",
    "    ])\n",
    "    mat = np.array(mat)\n",
    "\n",
    "    for i in range(3):\n",
    "        new_mat = np.array([\n",
    "            [mat[i, i], sum(mat[i, :]) - mat[i, i]],\n",
    "            [sum(mat[:, i]) - mat[i, i], 0 ]\n",
    "        ])\n",
    "        \n",
    "        new_mat[1,1] = np.sum(mat) - np.sum(new_mat)\n",
    "        \n",
    "        total_mat += new_mat\n",
    "\n",
    "    return np.sum(total_mat[0,0]) / np.sum(total_mat[0, :])"
   ]
  },
  {
   "cell_type": "code",
   "execution_count": 43,
   "metadata": {},
   "outputs": [
    {
     "name": "stdout",
     "output_type": "stream",
     "text": [
      "0.847457627118644\n",
      "0.7302452316076294\n"
     ]
    }
   ],
   "source": [
    "print(calc_micro((mat)))\n",
    "print(calc_micro([\n",
    "    [8, 10, 1],\n",
    "    [5, 60, 50],\n",
    "    [3, 30, 200]\n",
    "]))"
   ]
  },
  {
   "cell_type": "code",
   "execution_count": null,
   "metadata": {},
   "outputs": [],
   "source": []
  },
  {
   "cell_type": "code",
   "execution_count": null,
   "metadata": {},
   "outputs": [],
   "source": []
  },
  {
   "cell_type": "code",
   "execution_count": null,
   "metadata": {},
   "outputs": [],
   "source": []
  },
  {
   "cell_type": "code",
   "execution_count": null,
   "metadata": {},
   "outputs": [],
   "source": []
  }
 ],
 "metadata": {
  "kernelspec": {
   "display_name": "Python 3",
   "language": "python",
   "name": "python3"
  },
  "language_info": {
   "codemirror_mode": {
    "name": "ipython",
    "version": 3
   },
   "file_extension": ".py",
   "mimetype": "text/x-python",
   "name": "python",
   "nbconvert_exporter": "python",
   "pygments_lexer": "ipython3",
   "version": "3.7.3"
  }
 },
 "nbformat": 4,
 "nbformat_minor": 2
}
